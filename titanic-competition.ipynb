{
 "cells": [
  {
   "cell_type": "markdown",
   "id": "4d000e46",
   "metadata": {
    "papermill": {
     "duration": 0.003733,
     "end_time": "2025-06-11T00:00:36.577152",
     "exception": false,
     "start_time": "2025-06-11T00:00:36.573419",
     "status": "completed"
    },
    "tags": []
   },
   "source": [
    "# Summary\n",
    "This project is part of the [Titanic: Machine Learning from Disaster](https://www.kaggle.com/competitions/titanic) competition on Kaggle. The goal is to predict which passengers survived the Titanic shipwreck using machine learning models based on features like age, sex, and ticket class.\n",
    "# 📊 Data\n",
    "\n",
    "The dataset contains 891 rows and 12 columns. Below is a summary of the key variables used in the analysis:\n",
    "\n",
    "| Column Name | Description |\n",
    "|-------------|-------------|\n",
    "| PassengerId | Unique identifier for each passenger. |\n",
    "| Survived    | Target variable (0 = Did not survive, 1 = Survived). |\n",
    "| Pclass      | Ticket class (1st, 2nd, or 3rd). |\n",
    "| Name        | Full name of the passenger. |\n",
    "| Sex         | Gender of the passenger. |\n",
    "| Age         | Age of the passenger in years. |\n",
    "| SibSp       | Number of siblings/spouses aboard. |\n",
    "| Parch       | Number of parents/children aboard. |\n",
    "| Ticket      | Ticket number. |\n",
    "| Fare        | Passenger fare. |\n",
    "| Cabin       | Cabin number (often missing). |\n",
    "| Embarked    | Port of embarkation (C = Cherbourg, Q = Queenstown, S = Southampton). |\n",
    "\n",
    "Most columns are used in this analysis, especially those that provide demographic and socioeconomic information relevant to survival prediction.\n",
    "\n",
    "# Process Phase\n",
    "\n",
    "During this phase, data cleaning and preparation are performed to ensure quality and consistency. This includes handling missing values, correcting errors, normalizing formats, and validating data types. Key steps also include outlier detection, duplicate removal, and date format conversion.\n",
    "\n",
    "## Data Inspection\n",
    "\n",
    "The initial inspection helps understand the structure of the dataset, check data types, and identify missing or inconsistent values. This is done using basic functions to get an overview before applying transformations.\n"
   ]
  },
  {
   "cell_type": "code",
   "execution_count": 1,
   "id": "135be432",
   "metadata": {
    "execution": {
     "iopub.execute_input": "2025-06-11T00:00:36.585731Z",
     "iopub.status.busy": "2025-06-11T00:00:36.584845Z",
     "iopub.status.idle": "2025-06-11T00:00:41.890459Z",
     "shell.execute_reply": "2025-06-11T00:00:41.889371Z"
    },
    "papermill": {
     "duration": 5.311867,
     "end_time": "2025-06-11T00:00:41.892498",
     "exception": false,
     "start_time": "2025-06-11T00:00:36.580631",
     "status": "completed"
    },
    "tags": []
   },
   "outputs": [
    {
     "name": "stdout",
     "output_type": "stream",
     "text": [
      "test dataset\n",
      "   PassengerId  Pclass                                          Name     Sex  \\\n",
      "0          892       3                              Kelly, Mr. James    male   \n",
      "1          893       3              Wilkes, Mrs. James (Ellen Needs)  female   \n",
      "2          894       2                     Myles, Mr. Thomas Francis    male   \n",
      "3          895       3                              Wirz, Mr. Albert    male   \n",
      "4          896       3  Hirvonen, Mrs. Alexander (Helga E Lindqvist)  female   \n",
      "\n",
      "    Age  SibSp  Parch   Ticket     Fare Cabin Embarked  \n",
      "0  34.5      0      0   330911   7.8292   NaN        Q  \n",
      "1  47.0      1      0   363272   7.0000   NaN        S  \n",
      "2  62.0      0      0   240276   9.6875   NaN        Q  \n",
      "3  27.0      0      0   315154   8.6625   NaN        S  \n",
      "4  22.0      1      1  3101298  12.2875   NaN        S  \n",
      "\n",
      "train dataset\n",
      "   PassengerId  Survived  Pclass  \\\n",
      "0            1         0       3   \n",
      "1            2         1       1   \n",
      "2            3         1       3   \n",
      "3            4         1       1   \n",
      "4            5         0       3   \n",
      "\n",
      "                                                Name     Sex   Age  SibSp  \\\n",
      "0                            Braund, Mr. Owen Harris    male  22.0      1   \n",
      "1  Cumings, Mrs. John Bradley (Florence Briggs Th...  female  38.0      1   \n",
      "2                             Heikkinen, Miss. Laina  female  26.0      0   \n",
      "3       Futrelle, Mrs. Jacques Heath (Lily May Peel)  female  35.0      1   \n",
      "4                           Allen, Mr. William Henry    male  35.0      0   \n",
      "\n",
      "   Parch            Ticket     Fare Cabin Embarked  \n",
      "0      0         A/5 21171   7.2500   NaN        S  \n",
      "1      0          PC 17599  71.2833   C85        C  \n",
      "2      0  STON/O2. 3101282   7.9250   NaN        S  \n",
      "3      0            113803  53.1000  C123        S  \n",
      "4      0            373450   8.0500   NaN        S  \n"
     ]
    }
   ],
   "source": [
    "# Libraries & read datasets\n",
    "\n",
    "import pandas as pd\n",
    "import seaborn as sns\n",
    "from sklearn.preprocessing import OrdinalEncoder\n",
    "from sklearn.impute import SimpleImputer\n",
    "from sklearn.ensemble import RandomForestClassifier\n",
    "\n",
    "test = pd.read_csv('/kaggle/input/titanic/test.csv')\n",
    "train = pd.read_csv('/kaggle/input/titanic/train.csv')\n",
    "\n",
    "# First few rows\n",
    "\n",
    "print(\"test dataset\")\n",
    "print(test.head())\n",
    "\n",
    "print(\"\\ntrain dataset\")\n",
    "print(train.head())"
   ]
  },
  {
   "cell_type": "markdown",
   "id": "720c8130",
   "metadata": {
    "papermill": {
     "duration": 0.003301,
     "end_time": "2025-06-11T00:00:41.899466",
     "exception": false,
     "start_time": "2025-06-11T00:00:41.896165",
     "status": "completed"
    },
    "tags": []
   },
   "source": [
    "We can see that both datasets have the same columns, differing only in the Survived column, as indicated in the documentation."
   ]
  },
  {
   "cell_type": "code",
   "execution_count": 2,
   "id": "24f4beb2",
   "metadata": {
    "execution": {
     "iopub.execute_input": "2025-06-11T00:00:41.907784Z",
     "iopub.status.busy": "2025-06-11T00:00:41.907168Z",
     "iopub.status.idle": "2025-06-11T00:00:41.943127Z",
     "shell.execute_reply": "2025-06-11T00:00:41.941760Z"
    },
    "papermill": {
     "duration": 0.041911,
     "end_time": "2025-06-11T00:00:41.944814",
     "exception": false,
     "start_time": "2025-06-11T00:00:41.902903",
     "status": "completed"
    },
    "tags": []
   },
   "outputs": [
    {
     "name": "stdout",
     "output_type": "stream",
     "text": [
      "<class 'pandas.core.frame.DataFrame'>\n",
      "RangeIndex: 418 entries, 0 to 417\n",
      "Data columns (total 11 columns):\n",
      " #   Column       Non-Null Count  Dtype  \n",
      "---  ------       --------------  -----  \n",
      " 0   PassengerId  418 non-null    int64  \n",
      " 1   Pclass       418 non-null    int64  \n",
      " 2   Name         418 non-null    object \n",
      " 3   Sex          418 non-null    object \n",
      " 4   Age          332 non-null    float64\n",
      " 5   SibSp        418 non-null    int64  \n",
      " 6   Parch        418 non-null    int64  \n",
      " 7   Ticket       418 non-null    object \n",
      " 8   Fare         417 non-null    float64\n",
      " 9   Cabin        91 non-null     object \n",
      " 10  Embarked     418 non-null    object \n",
      "dtypes: float64(2), int64(4), object(5)\n",
      "memory usage: 36.1+ KB\n",
      "<class 'pandas.core.frame.DataFrame'>\n",
      "RangeIndex: 891 entries, 0 to 890\n",
      "Data columns (total 12 columns):\n",
      " #   Column       Non-Null Count  Dtype  \n",
      "---  ------       --------------  -----  \n",
      " 0   PassengerId  891 non-null    int64  \n",
      " 1   Survived     891 non-null    int64  \n",
      " 2   Pclass       891 non-null    int64  \n",
      " 3   Name         891 non-null    object \n",
      " 4   Sex          891 non-null    object \n",
      " 5   Age          714 non-null    float64\n",
      " 6   SibSp        891 non-null    int64  \n",
      " 7   Parch        891 non-null    int64  \n",
      " 8   Ticket       891 non-null    object \n",
      " 9   Fare         891 non-null    float64\n",
      " 10  Cabin        204 non-null    object \n",
      " 11  Embarked     889 non-null    object \n",
      "dtypes: float64(2), int64(5), object(5)\n",
      "memory usage: 83.7+ KB\n"
     ]
    }
   ],
   "source": [
    "#structure\n",
    "\n",
    "test.info()\n",
    "train.info()"
   ]
  },
  {
   "cell_type": "markdown",
   "id": "8e8b2b2d",
   "metadata": {
    "papermill": {
     "duration": 0.003535,
     "end_time": "2025-06-11T00:00:41.951952",
     "exception": false,
     "start_time": "2025-06-11T00:00:41.948417",
     "status": "completed"
    },
    "tags": []
   },
   "source": [
    "We can observe that several columns contain missing values, with the Cabin column having a particularly high number of nulls. Additionally, some variables are of object type, which will need to be transformed into numerical formats later in the process."
   ]
  },
  {
   "cell_type": "code",
   "execution_count": 3,
   "id": "7db23c07",
   "metadata": {
    "execution": {
     "iopub.execute_input": "2025-06-11T00:00:41.960007Z",
     "iopub.status.busy": "2025-06-11T00:00:41.959688Z",
     "iopub.status.idle": "2025-06-11T00:00:41.973744Z",
     "shell.execute_reply": "2025-06-11T00:00:41.972693Z"
    },
    "papermill": {
     "duration": 0.02003,
     "end_time": "2025-06-11T00:00:41.975397",
     "exception": false,
     "start_time": "2025-06-11T00:00:41.955367",
     "status": "completed"
    },
    "tags": []
   },
   "outputs": [
    {
     "name": "stdout",
     "output_type": "stream",
     "text": [
      "PassengerId    418\n",
      "Pclass           3\n",
      "Name           418\n",
      "Sex              2\n",
      "Age             79\n",
      "SibSp            7\n",
      "Parch            8\n",
      "Ticket         363\n",
      "Fare           169\n",
      "Cabin           76\n",
      "Embarked         3\n",
      "dtype: int64\n",
      "PassengerId    891\n",
      "Survived         2\n",
      "Pclass           3\n",
      "Name           891\n",
      "Sex              2\n",
      "Age             88\n",
      "SibSp            7\n",
      "Parch            7\n",
      "Ticket         681\n",
      "Fare           248\n",
      "Cabin          147\n",
      "Embarked         3\n",
      "dtype: int64\n"
     ]
    }
   ],
   "source": [
    "# Unique values\n",
    "\n",
    "print(test.nunique())\n",
    "print(train.nunique())"
   ]
  },
  {
   "cell_type": "markdown",
   "id": "ec3399e1",
   "metadata": {
    "papermill": {
     "duration": 0.004403,
     "end_time": "2025-06-11T00:00:41.984237",
     "exception": false,
     "start_time": "2025-06-11T00:00:41.979834",
     "status": "completed"
    },
    "tags": []
   },
   "source": [
    "We can confirm that the columns contain the number of values as specified in the documentation."
   ]
  },
  {
   "cell_type": "code",
   "execution_count": 4,
   "id": "4ee511a3",
   "metadata": {
    "execution": {
     "iopub.execute_input": "2025-06-11T00:00:41.994394Z",
     "iopub.status.busy": "2025-06-11T00:00:41.994051Z",
     "iopub.status.idle": "2025-06-11T00:00:42.004773Z",
     "shell.execute_reply": "2025-06-11T00:00:42.003508Z"
    },
    "papermill": {
     "duration": 0.017956,
     "end_time": "2025-06-11T00:00:42.006492",
     "exception": false,
     "start_time": "2025-06-11T00:00:41.988536",
     "status": "completed"
    },
    "tags": []
   },
   "outputs": [
    {
     "name": "stdout",
     "output_type": "stream",
     "text": [
      "0\n",
      "0\n"
     ]
    }
   ],
   "source": [
    "# Duplicated values\n",
    "\n",
    "print(train.duplicated().sum())\n",
    "print(test.duplicated().sum())"
   ]
  },
  {
   "cell_type": "markdown",
   "id": "ba5fba9a",
   "metadata": {
    "papermill": {
     "duration": 0.003151,
     "end_time": "2025-06-11T00:00:42.013317",
     "exception": false,
     "start_time": "2025-06-11T00:00:42.010166",
     "status": "completed"
    },
    "tags": []
   },
   "source": [
    "There are not duplicated values"
   ]
  },
  {
   "cell_type": "code",
   "execution_count": 5,
   "id": "44d4ae74",
   "metadata": {
    "execution": {
     "iopub.execute_input": "2025-06-11T00:00:42.021257Z",
     "iopub.status.busy": "2025-06-11T00:00:42.020890Z",
     "iopub.status.idle": "2025-06-11T00:00:42.064167Z",
     "shell.execute_reply": "2025-06-11T00:00:42.062554Z"
    },
    "papermill": {
     "duration": 0.049775,
     "end_time": "2025-06-11T00:00:42.066383",
     "exception": false,
     "start_time": "2025-06-11T00:00:42.016608",
     "status": "completed"
    },
    "tags": []
   },
   "outputs": [
    {
     "name": "stdout",
     "output_type": "stream",
     "text": [
      "       PassengerId      Pclass         Age       SibSp       Parch        Fare\n",
      "count   418.000000  418.000000  332.000000  418.000000  418.000000  417.000000\n",
      "mean   1100.500000    2.265550   30.272590    0.447368    0.392344   35.627188\n",
      "std     120.810458    0.841838   14.181209    0.896760    0.981429   55.907576\n",
      "min     892.000000    1.000000    0.170000    0.000000    0.000000    0.000000\n",
      "25%     996.250000    1.000000   21.000000    0.000000    0.000000    7.895800\n",
      "50%    1100.500000    3.000000   27.000000    0.000000    0.000000   14.454200\n",
      "75%    1204.750000    3.000000   39.000000    1.000000    0.000000   31.500000\n",
      "max    1309.000000    3.000000   76.000000    8.000000    9.000000  512.329200\n",
      "       PassengerId    Survived      Pclass         Age       SibSp  \\\n",
      "count   891.000000  891.000000  891.000000  714.000000  891.000000   \n",
      "mean    446.000000    0.383838    2.308642   29.699118    0.523008   \n",
      "std     257.353842    0.486592    0.836071   14.526497    1.102743   \n",
      "min       1.000000    0.000000    1.000000    0.420000    0.000000   \n",
      "25%     223.500000    0.000000    2.000000   20.125000    0.000000   \n",
      "50%     446.000000    0.000000    3.000000   28.000000    0.000000   \n",
      "75%     668.500000    1.000000    3.000000   38.000000    1.000000   \n",
      "max     891.000000    1.000000    3.000000   80.000000    8.000000   \n",
      "\n",
      "            Parch        Fare  \n",
      "count  891.000000  891.000000  \n",
      "mean     0.381594   32.204208  \n",
      "std      0.806057   49.693429  \n",
      "min      0.000000    0.000000  \n",
      "25%      0.000000    7.910400  \n",
      "50%      0.000000   14.454200  \n",
      "75%      0.000000   31.000000  \n",
      "max      6.000000  512.329200  \n"
     ]
    }
   ],
   "source": [
    "# statistics\n",
    "\n",
    "print(test.describe())\n",
    "print(train.describe())"
   ]
  },
  {
   "cell_type": "markdown",
   "id": "4561a9ef",
   "metadata": {
    "papermill": {
     "duration": 0.003404,
     "end_time": "2025-06-11T00:00:42.073365",
     "exception": false,
     "start_time": "2025-06-11T00:00:42.069961",
     "status": "completed"
    },
    "tags": []
   },
   "source": [
    "We can review basic statistics of the dataset, such as the minimum and maximum ages.\n",
    "## Data cleaning process\n",
    "The following section outlines the process for cleaning the dataset to ensure it is ready for analysis."
   ]
  },
  {
   "cell_type": "code",
   "execution_count": 6,
   "id": "78185c70",
   "metadata": {
    "execution": {
     "iopub.execute_input": "2025-06-11T00:00:42.081782Z",
     "iopub.status.busy": "2025-06-11T00:00:42.081439Z",
     "iopub.status.idle": "2025-06-11T00:00:42.111381Z",
     "shell.execute_reply": "2025-06-11T00:00:42.110095Z"
    },
    "papermill": {
     "duration": 0.03627,
     "end_time": "2025-06-11T00:00:42.113131",
     "exception": false,
     "start_time": "2025-06-11T00:00:42.076861",
     "status": "completed"
    },
    "tags": []
   },
   "outputs": [
    {
     "name": "stdout",
     "output_type": "stream",
     "text": [
      "Survived    1.000000\n",
      "Fare        0.257307\n",
      "Parch       0.081629\n",
      "SibSp      -0.035322\n",
      "Age        -0.052872\n",
      "Embarked   -0.167675\n",
      "Pclass     -0.338481\n",
      "Sex        -0.543351\n",
      "Name: Survived, dtype: float64\n"
     ]
    }
   ],
   "source": [
    "#  We keep the test set’s PassengerId for submission purposes.\n",
    "\n",
    "testId = test['PassengerId']\n",
    "\n",
    "# We drop columns that are not useful for the analysis.\n",
    "\n",
    "test = test.drop(['Name', 'Ticket', 'Cabin', 'PassengerId'], axis = 1)\n",
    "train = train.drop(['Name', 'Ticket', 'Cabin', 'PassengerId'], axis = 1)\n",
    "test.head()\n",
    "\n",
    "# Fill missing values.\n",
    "\n",
    "train['Age']=train['Age'].fillna(train['Age'].mode()[0])\n",
    "test['Age']=test['Age'].fillna(test['Age'].mode()[0])\n",
    "train['Embarked'] = train['Embarked'].fillna(train['Embarked'].mode()[0])\n",
    "test['Fare'] = test['Fare'].fillna(test['Fare'].mean())\n",
    "\n",
    "# We convert the columns with object data types to numeric.\n",
    "\n",
    "encoder = OrdinalEncoder()\n",
    "train[['Sex', 'Embarked']] = encoder.fit_transform(train[['Sex', 'Embarked']])\n",
    "test[['Sex', 'Embarked']] = encoder.transform(test[['Sex', 'Embarked']])\n",
    "\n",
    "# Now we can examine the correlation between the different variables.\n",
    "\n",
    "print(train.corr()['Survived'].sort_values(ascending=False))"
   ]
  },
  {
   "cell_type": "markdown",
   "id": "325f91f8",
   "metadata": {
    "papermill": {
     "duration": 0.003757,
     "end_time": "2025-06-11T00:00:42.120702",
     "exception": false,
     "start_time": "2025-06-11T00:00:42.116945",
     "status": "completed"
    },
    "tags": []
   },
   "source": [
    "We can observe that several variables have a low linear correlation.\n",
    "## Conclusions from data cleaning\n",
    "The conclusions from the data cleaning process are summarized below.\n",
    "* We removed the columns Name, PassengerId, and Ticket because the type of information they contained was not useful for prediction.\n",
    "The Cabin column was also removed due to having too many missing values. (Note: The PassengerId from the test set was kept separately for submission purposes.)\n",
    "* Missing values in key columns were filled to ensure completeness: Age and Embarked were filled using their mode values, while Fare in the test set was filled with the mean.\n",
    "* Categorical columns (Sex and Embarked) were encoded into numeric values using ordinal encoding to prepare the data for modeling.\n",
    "* Finally, we analyzed the correlation between variables to better understand their relationship with the target variable Survived.\n",
    "Some features showed low linear correlation, but they were kept in the dataset as they may still contribute through non-linear interactions in the model.\n",
    "# Predictions\n",
    "In this section, we generate survival predictions using the trained model and prepare the results for submission to the competition."
   ]
  },
  {
   "cell_type": "code",
   "execution_count": 7,
   "id": "f5009955",
   "metadata": {
    "execution": {
     "iopub.execute_input": "2025-06-11T00:00:42.129809Z",
     "iopub.status.busy": "2025-06-11T00:00:42.129509Z",
     "iopub.status.idle": "2025-06-11T00:00:42.323155Z",
     "shell.execute_reply": "2025-06-11T00:00:42.322180Z"
    },
    "papermill": {
     "duration": 0.200644,
     "end_time": "2025-06-11T00:00:42.325310",
     "exception": false,
     "start_time": "2025-06-11T00:00:42.124666",
     "status": "completed"
    },
    "tags": []
   },
   "outputs": [
    {
     "data": {
      "text/html": [
       "<style>#sk-container-id-1 {color: black;background-color: white;}#sk-container-id-1 pre{padding: 0;}#sk-container-id-1 div.sk-toggleable {background-color: white;}#sk-container-id-1 label.sk-toggleable__label {cursor: pointer;display: block;width: 100%;margin-bottom: 0;padding: 0.3em;box-sizing: border-box;text-align: center;}#sk-container-id-1 label.sk-toggleable__label-arrow:before {content: \"▸\";float: left;margin-right: 0.25em;color: #696969;}#sk-container-id-1 label.sk-toggleable__label-arrow:hover:before {color: black;}#sk-container-id-1 div.sk-estimator:hover label.sk-toggleable__label-arrow:before {color: black;}#sk-container-id-1 div.sk-toggleable__content {max-height: 0;max-width: 0;overflow: hidden;text-align: left;background-color: #f0f8ff;}#sk-container-id-1 div.sk-toggleable__content pre {margin: 0.2em;color: black;border-radius: 0.25em;background-color: #f0f8ff;}#sk-container-id-1 input.sk-toggleable__control:checked~div.sk-toggleable__content {max-height: 200px;max-width: 100%;overflow: auto;}#sk-container-id-1 input.sk-toggleable__control:checked~label.sk-toggleable__label-arrow:before {content: \"▾\";}#sk-container-id-1 div.sk-estimator input.sk-toggleable__control:checked~label.sk-toggleable__label {background-color: #d4ebff;}#sk-container-id-1 div.sk-label input.sk-toggleable__control:checked~label.sk-toggleable__label {background-color: #d4ebff;}#sk-container-id-1 input.sk-hidden--visually {border: 0;clip: rect(1px 1px 1px 1px);clip: rect(1px, 1px, 1px, 1px);height: 1px;margin: -1px;overflow: hidden;padding: 0;position: absolute;width: 1px;}#sk-container-id-1 div.sk-estimator {font-family: monospace;background-color: #f0f8ff;border: 1px dotted black;border-radius: 0.25em;box-sizing: border-box;margin-bottom: 0.5em;}#sk-container-id-1 div.sk-estimator:hover {background-color: #d4ebff;}#sk-container-id-1 div.sk-parallel-item::after {content: \"\";width: 100%;border-bottom: 1px solid gray;flex-grow: 1;}#sk-container-id-1 div.sk-label:hover label.sk-toggleable__label {background-color: #d4ebff;}#sk-container-id-1 div.sk-serial::before {content: \"\";position: absolute;border-left: 1px solid gray;box-sizing: border-box;top: 0;bottom: 0;left: 50%;z-index: 0;}#sk-container-id-1 div.sk-serial {display: flex;flex-direction: column;align-items: center;background-color: white;padding-right: 0.2em;padding-left: 0.2em;position: relative;}#sk-container-id-1 div.sk-item {position: relative;z-index: 1;}#sk-container-id-1 div.sk-parallel {display: flex;align-items: stretch;justify-content: center;background-color: white;position: relative;}#sk-container-id-1 div.sk-item::before, #sk-container-id-1 div.sk-parallel-item::before {content: \"\";position: absolute;border-left: 1px solid gray;box-sizing: border-box;top: 0;bottom: 0;left: 50%;z-index: -1;}#sk-container-id-1 div.sk-parallel-item {display: flex;flex-direction: column;z-index: 1;position: relative;background-color: white;}#sk-container-id-1 div.sk-parallel-item:first-child::after {align-self: flex-end;width: 50%;}#sk-container-id-1 div.sk-parallel-item:last-child::after {align-self: flex-start;width: 50%;}#sk-container-id-1 div.sk-parallel-item:only-child::after {width: 0;}#sk-container-id-1 div.sk-dashed-wrapped {border: 1px dashed gray;margin: 0 0.4em 0.5em 0.4em;box-sizing: border-box;padding-bottom: 0.4em;background-color: white;}#sk-container-id-1 div.sk-label label {font-family: monospace;font-weight: bold;display: inline-block;line-height: 1.2em;}#sk-container-id-1 div.sk-label-container {text-align: center;}#sk-container-id-1 div.sk-container {/* jupyter's `normalize.less` sets `[hidden] { display: none; }` but bootstrap.min.css set `[hidden] { display: none !important; }` so we also need the `!important` here to be able to override the default hidden behavior on the sphinx rendered scikit-learn.org. See: https://github.com/scikit-learn/scikit-learn/issues/21755 */display: inline-block !important;position: relative;}#sk-container-id-1 div.sk-text-repr-fallback {display: none;}</style><div id=\"sk-container-id-1\" class=\"sk-top-container\"><div class=\"sk-text-repr-fallback\"><pre>RandomForestClassifier(max_depth=5, random_state=1)</pre><b>In a Jupyter environment, please rerun this cell to show the HTML representation or trust the notebook. <br />On GitHub, the HTML representation is unable to render, please try loading this page with nbviewer.org.</b></div><div class=\"sk-container\" hidden><div class=\"sk-item\"><div class=\"sk-estimator sk-toggleable\"><input class=\"sk-toggleable__control sk-hidden--visually\" id=\"sk-estimator-id-1\" type=\"checkbox\" checked><label for=\"sk-estimator-id-1\" class=\"sk-toggleable__label sk-toggleable__label-arrow\">RandomForestClassifier</label><div class=\"sk-toggleable__content\"><pre>RandomForestClassifier(max_depth=5, random_state=1)</pre></div></div></div></div></div>"
      ],
      "text/plain": [
       "RandomForestClassifier(max_depth=5, random_state=1)"
      ]
     },
     "execution_count": 7,
     "metadata": {},
     "output_type": "execute_result"
    }
   ],
   "source": [
    "# Define the variables\n",
    "\n",
    "X = train.drop(['Survived'], axis = 1)\n",
    "Y = train['Survived']\n",
    "\n",
    "# Train the model\n",
    "\n",
    "model = RandomForestClassifier(n_estimators=100, max_depth=5, random_state=1)\n",
    "model.fit(X, Y)"
   ]
  },
  {
   "cell_type": "code",
   "execution_count": 8,
   "id": "2394d52f",
   "metadata": {
    "execution": {
     "iopub.execute_input": "2025-06-11T00:00:42.335245Z",
     "iopub.status.busy": "2025-06-11T00:00:42.334855Z",
     "iopub.status.idle": "2025-06-11T00:00:42.358575Z",
     "shell.execute_reply": "2025-06-11T00:00:42.357566Z"
    },
    "papermill": {
     "duration": 0.030715,
     "end_time": "2025-06-11T00:00:42.360482",
     "exception": false,
     "start_time": "2025-06-11T00:00:42.329767",
     "status": "completed"
    },
    "tags": []
   },
   "outputs": [],
   "source": [
    "# Make predictions\n",
    "\n",
    "predictions = model.predict(test)\n",
    "\n",
    "# Prepare the predictions for submission\n",
    "\n",
    "final = pd.DataFrame({\n",
    "    'PassengerId': testId,\n",
    "    'Survived': predictions\n",
    "})\n",
    "final.to_csv('submission.csv', index=False)"
   ]
  }
 ],
 "metadata": {
  "kaggle": {
   "accelerator": "none",
   "dataSources": [
    {
     "databundleVersionId": 26502,
     "sourceId": 3136,
     "sourceType": "competition"
    }
   ],
   "dockerImageVersionId": 31040,
   "isGpuEnabled": false,
   "isInternetEnabled": true,
   "language": "python",
   "sourceType": "notebook"
  },
  "kernelspec": {
   "display_name": "Python 3",
   "language": "python",
   "name": "python3"
  },
  "language_info": {
   "codemirror_mode": {
    "name": "ipython",
    "version": 3
   },
   "file_extension": ".py",
   "mimetype": "text/x-python",
   "name": "python",
   "nbconvert_exporter": "python",
   "pygments_lexer": "ipython3",
   "version": "3.11.11"
  },
  "papermill": {
   "default_parameters": {},
   "duration": 11.707516,
   "end_time": "2025-06-11T00:00:43.085768",
   "environment_variables": {},
   "exception": null,
   "input_path": "__notebook__.ipynb",
   "output_path": "__notebook__.ipynb",
   "parameters": {},
   "start_time": "2025-06-11T00:00:31.378252",
   "version": "2.6.0"
  }
 },
 "nbformat": 4,
 "nbformat_minor": 5
}
